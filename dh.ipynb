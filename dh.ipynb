{
 "cells": [
  {
   "cell_type": "markdown",
   "metadata": {},
   "source": [
    "Alice and Bob agree on two positive integers p and q.\n",
    "\n",
    "Note: p must be a prime number, and q must be a generator of p."
   ]
  },
  {
   "cell_type": "code",
   "execution_count": 6,
   "metadata": {
    "tags": []
   },
   "outputs": [
    {
     "name": "stdout",
     "output_type": "stream",
     "text": [
      "Alice gives Bob this number: 11^144 % 54111 = 32437\n",
      "\n"
     ]
    }
   ],
   "source": [
    "# Constants used--shared clear text EVE is the eavesdropper\n",
    "q = 11 # generator\n",
    "p = 54111 # prime\n",
    "\n",
    "# Each person chooses a number between 1 and 100 (NOT shared with anyone)\n",
    "alice_secret = 144 # ONLY Alice knows this number\n",
    "bob_secret = 15 # ONLY Bob knows this number\n",
    "\n",
    "# Alice computes the remainder using g rasied to her secret number mod p\n",
    "alice_shared = q**alice_secret % p\n",
    "print(f'Alice gives Bob this number: {q}^{alice_secret} % {p} = {alice_shared}\\n')"
   ]
  },
  {
   "cell_type": "code",
   "execution_count": 7,
   "metadata": {
    "tags": []
   },
   "outputs": [
    {
     "name": "stdout",
     "output_type": "stream",
     "text": [
      "Bob gives Alice this number: 30461\n",
      "\n"
     ]
    }
   ],
   "source": [
    "# Bob also computes the remainder using g rasied to his secret number mod p\n",
    "bob_shared = q**bob_secret % p\n",
    "print(f'Bob gives Alice this number: {bob_shared}\\n')\n",
    "# Bob and Alice share A and B with each other."
   ]
  },
  {
   "cell_type": "code",
   "execution_count": 8,
   "metadata": {
    "tags": []
   },
   "outputs": [],
   "source": [
    "# Alice and bob each compute the shared key she and Bob can use to share files\n",
    "key_for_alice = bob_shared**alice_secret % p"
   ]
  },
  {
   "cell_type": "code",
   "execution_count": 9,
   "metadata": {
    "tags": []
   },
   "outputs": [],
   "source": [
    "key_for_bob = alice_shared**bob_secret % p"
   ]
  },
  {
   "cell_type": "code",
   "execution_count": 10,
   "metadata": {},
   "outputs": [
    {
     "data": {
      "text/plain": [
       "39628"
      ]
     },
     "execution_count": 10,
     "metadata": {},
     "output_type": "execute_result"
    }
   ],
   "source": [
    "key_for_bob"
   ]
  },
  {
   "cell_type": "code",
   "execution_count": 11,
   "metadata": {
    "tags": []
   },
   "outputs": [
    {
     "name": "stdout",
     "output_type": "stream",
     "text": [
      "Bob's shared key, 39628 = 39628, Alice's shared key\n"
     ]
    }
   ],
   "source": [
    "print(f\"Bob's shared key, {key_for_bob} = {key_for_alice}, Alice's shared key\")"
   ]
  },
  {
   "cell_type": "code",
   "execution_count": null,
   "metadata": {},
   "outputs": [],
   "source": [
    "# Constants used--shared clear text\n",
    "g = 11 # generator\n",
    "p = 5411 # prime\n",
    "\n",
    "# My partner and I choose a number between 1 and 100 (NOT shared with anyone)\n",
    "my_secret = 7  # Only I know this number\n",
    "\n",
    "# I computes the remainder using g rasied to my secret number mod p\n",
    "my_shared = g**my_secret % p\n",
    "print(my_shared)"
   ]
  },
  {
   "cell_type": "code",
   "execution_count": null,
   "metadata": {},
   "outputs": [],
   "source": [
    "# I share the my_shared value with my partner\n",
    "\n",
    "# My partner shares their number with me\n",
    "partner_shared =  2381   # Enter the number after the equal sign\n",
    "\n",
    "# My partner and I compute the shared key we can use for encryption, etc.\n",
    "shared_key = partner_shared**my_secret % p\n",
    "\n",
    "print(\"Shared key = \", shared_key)\n",
    "print(\"Enter the key twice to open the secret document: \", str(shared_key)*2)"
   ]
  },
  {
   "cell_type": "code",
   "execution_count": null,
   "metadata": {},
   "outputs": [],
   "source": [
    "# Constants used--shared clear text\n",
    "g = 11 # generator\n",
    "p = 5411 # prime\n",
    "\n",
    "# My partner and I choose a number between 1 and 100 (NOT shared with anyone)\n",
    "my_secret = 13 # Only I know this number\n",
    "\n",
    "# I computes the remainder using g rasied to my secret number mod p\n",
    "my_shared = g**my_secret % p\n",
    "print(my_shared)"
   ]
  },
  {
   "cell_type": "code",
   "execution_count": null,
   "metadata": {},
   "outputs": [],
   "source": [
    "# I share the my_shared value with my partner\n",
    "\n",
    "# My partner shares their number with me\n",
    "partner_shared = 4547    # Enter the number after the equal sign\n",
    "\n",
    "# My partner and I compute the shared key we can use for encryption, etc.\n",
    "shared_key = partner_shared**my_secret % p\n",
    "\n",
    "print(\"Shared key = \", shared_key)\n",
    "print(\"Enter the key twice to open the secret document: \", str(shared_key)*2)"
   ]
  },
  {
   "cell_type": "code",
   "execution_count": null,
   "metadata": {},
   "outputs": [],
   "source": [
    "from tqdm import tqdm\n",
    "def discrete_logarithm_brute_force(g, h, p):\n",
    "    \"\"\"\n",
    "    Solves the discrete logarithm problem using brute force:\n",
    "    Find x such that g^x ≡ h (mod p)\n",
    "    \n",
    "    Parameters:\n",
    "    g: Base (primitive root modulo p)\n",
    "    h: Result (g^x mod p = h)\n",
    "    p: Modulus (prime number)\n",
    "    \n",
    "    Returns:\n",
    "    x: The discrete logarithm (x) such that g^x ≡ h (mod p)\n",
    "    \"\"\"\n",
    "    for x in tqdm(range(p)):\n",
    "        if pow(g, x, p) == h:  # Efficient modular exponentiation\n",
    "            return x\n",
    "    return None  # If no solution is found\n",
    "\n",
    "# Example usage\n",
    "g = 11  # base\n",
    "h = 32437  # result of g^x mod p\n",
    "p = 54111  # prime modulus\n",
    "\n",
    "x = discrete_logarithm_brute_force(g, h, p)\n",
    "\n",
    "if x is not None:\n",
    "    print(f\"Discrete logarithm found: x = {x}\")\n",
    "else:\n",
    "    print(\"No solution found.\")\n"
   ]
  },
  {
   "cell_type": "code",
   "execution_count": null,
   "metadata": {},
   "outputs": [],
   "source": []
  }
 ],
 "metadata": {
  "kernelspec": {
   "display_name": "Python 3 (ipykernel)",
   "language": "python",
   "name": "python3"
  },
  "language_info": {
   "codemirror_mode": {
    "name": "ipython",
    "version": 3
   },
   "file_extension": ".py",
   "mimetype": "text/x-python",
   "name": "python",
   "nbconvert_exporter": "python",
   "pygments_lexer": "ipython3",
   "version": "3.10.14"
  }
 },
 "nbformat": 4,
 "nbformat_minor": 4
}
